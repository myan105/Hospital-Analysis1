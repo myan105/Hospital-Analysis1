{
  "nbformat": 4,
  "nbformat_minor": 0,
  "metadata": {
    "colab": {
      "provenance": [],
      "authorship_tag": "ABX9TyNRcAhocGRXcRbygWFYmUlg",
      "include_colab_link": true
    },
    "kernelspec": {
      "name": "python3",
      "display_name": "Python 3"
    },
    "language_info": {
      "name": "python"
    }
  },
  "cells": [
    {
      "cell_type": "markdown",
      "metadata": {
        "id": "view-in-github",
        "colab_type": "text"
      },
      "source": [
        "<a href=\"https://colab.research.google.com/github/myan105/Hospital-Analysis1/blob/main/Hospital_Analysis.ipynb\" target=\"_parent\"><img src=\"https://colab.research.google.com/assets/colab-badge.svg\" alt=\"Open In Colab\"/></a>"
      ]
    },
    {
      "cell_type": "code",
      "execution_count": 5,
      "metadata": {
        "colab": {
          "base_uri": "https://localhost:8080/",
          "height": 109
        },
        "id": "5BjxkeDW98-A",
        "outputId": "5a32f0e6-be04-4a72-cc87-f21bbbc91926"
      },
      "outputs": [
        {
          "output_type": "display_data",
          "data": {
            "text/plain": [
              "<IPython.core.display.HTML object>"
            ],
            "text/html": [
              "\n",
              "     <input type=\"file\" id=\"files-998f1a59-df44-4958-a0af-aedfc78f4dc6\" name=\"files[]\" multiple disabled\n",
              "        style=\"border:none\" />\n",
              "     <output id=\"result-998f1a59-df44-4958-a0af-aedfc78f4dc6\">\n",
              "      Upload widget is only available when the cell has been executed in the\n",
              "      current browser session. Please rerun this cell to enable.\n",
              "      </output>\n",
              "      <script>// Copyright 2017 Google LLC\n",
              "//\n",
              "// Licensed under the Apache License, Version 2.0 (the \"License\");\n",
              "// you may not use this file except in compliance with the License.\n",
              "// You may obtain a copy of the License at\n",
              "//\n",
              "//      http://www.apache.org/licenses/LICENSE-2.0\n",
              "//\n",
              "// Unless required by applicable law or agreed to in writing, software\n",
              "// distributed under the License is distributed on an \"AS IS\" BASIS,\n",
              "// WITHOUT WARRANTIES OR CONDITIONS OF ANY KIND, either express or implied.\n",
              "// See the License for the specific language governing permissions and\n",
              "// limitations under the License.\n",
              "\n",
              "/**\n",
              " * @fileoverview Helpers for google.colab Python module.\n",
              " */\n",
              "(function(scope) {\n",
              "function span(text, styleAttributes = {}) {\n",
              "  const element = document.createElement('span');\n",
              "  element.textContent = text;\n",
              "  for (const key of Object.keys(styleAttributes)) {\n",
              "    element.style[key] = styleAttributes[key];\n",
              "  }\n",
              "  return element;\n",
              "}\n",
              "\n",
              "// Max number of bytes which will be uploaded at a time.\n",
              "const MAX_PAYLOAD_SIZE = 100 * 1024;\n",
              "\n",
              "function _uploadFiles(inputId, outputId) {\n",
              "  const steps = uploadFilesStep(inputId, outputId);\n",
              "  const outputElement = document.getElementById(outputId);\n",
              "  // Cache steps on the outputElement to make it available for the next call\n",
              "  // to uploadFilesContinue from Python.\n",
              "  outputElement.steps = steps;\n",
              "\n",
              "  return _uploadFilesContinue(outputId);\n",
              "}\n",
              "\n",
              "// This is roughly an async generator (not supported in the browser yet),\n",
              "// where there are multiple asynchronous steps and the Python side is going\n",
              "// to poll for completion of each step.\n",
              "// This uses a Promise to block the python side on completion of each step,\n",
              "// then passes the result of the previous step as the input to the next step.\n",
              "function _uploadFilesContinue(outputId) {\n",
              "  const outputElement = document.getElementById(outputId);\n",
              "  const steps = outputElement.steps;\n",
              "\n",
              "  const next = steps.next(outputElement.lastPromiseValue);\n",
              "  return Promise.resolve(next.value.promise).then((value) => {\n",
              "    // Cache the last promise value to make it available to the next\n",
              "    // step of the generator.\n",
              "    outputElement.lastPromiseValue = value;\n",
              "    return next.value.response;\n",
              "  });\n",
              "}\n",
              "\n",
              "/**\n",
              " * Generator function which is called between each async step of the upload\n",
              " * process.\n",
              " * @param {string} inputId Element ID of the input file picker element.\n",
              " * @param {string} outputId Element ID of the output display.\n",
              " * @return {!Iterable<!Object>} Iterable of next steps.\n",
              " */\n",
              "function* uploadFilesStep(inputId, outputId) {\n",
              "  const inputElement = document.getElementById(inputId);\n",
              "  inputElement.disabled = false;\n",
              "\n",
              "  const outputElement = document.getElementById(outputId);\n",
              "  outputElement.innerHTML = '';\n",
              "\n",
              "  const pickedPromise = new Promise((resolve) => {\n",
              "    inputElement.addEventListener('change', (e) => {\n",
              "      resolve(e.target.files);\n",
              "    });\n",
              "  });\n",
              "\n",
              "  const cancel = document.createElement('button');\n",
              "  inputElement.parentElement.appendChild(cancel);\n",
              "  cancel.textContent = 'Cancel upload';\n",
              "  const cancelPromise = new Promise((resolve) => {\n",
              "    cancel.onclick = () => {\n",
              "      resolve(null);\n",
              "    };\n",
              "  });\n",
              "\n",
              "  // Wait for the user to pick the files.\n",
              "  const files = yield {\n",
              "    promise: Promise.race([pickedPromise, cancelPromise]),\n",
              "    response: {\n",
              "      action: 'starting',\n",
              "    }\n",
              "  };\n",
              "\n",
              "  cancel.remove();\n",
              "\n",
              "  // Disable the input element since further picks are not allowed.\n",
              "  inputElement.disabled = true;\n",
              "\n",
              "  if (!files) {\n",
              "    return {\n",
              "      response: {\n",
              "        action: 'complete',\n",
              "      }\n",
              "    };\n",
              "  }\n",
              "\n",
              "  for (const file of files) {\n",
              "    const li = document.createElement('li');\n",
              "    li.append(span(file.name, {fontWeight: 'bold'}));\n",
              "    li.append(span(\n",
              "        `(${file.type || 'n/a'}) - ${file.size} bytes, ` +\n",
              "        `last modified: ${\n",
              "            file.lastModifiedDate ? file.lastModifiedDate.toLocaleDateString() :\n",
              "                                    'n/a'} - `));\n",
              "    const percent = span('0% done');\n",
              "    li.appendChild(percent);\n",
              "\n",
              "    outputElement.appendChild(li);\n",
              "\n",
              "    const fileDataPromise = new Promise((resolve) => {\n",
              "      const reader = new FileReader();\n",
              "      reader.onload = (e) => {\n",
              "        resolve(e.target.result);\n",
              "      };\n",
              "      reader.readAsArrayBuffer(file);\n",
              "    });\n",
              "    // Wait for the data to be ready.\n",
              "    let fileData = yield {\n",
              "      promise: fileDataPromise,\n",
              "      response: {\n",
              "        action: 'continue',\n",
              "      }\n",
              "    };\n",
              "\n",
              "    // Use a chunked sending to avoid message size limits. See b/62115660.\n",
              "    let position = 0;\n",
              "    do {\n",
              "      const length = Math.min(fileData.byteLength - position, MAX_PAYLOAD_SIZE);\n",
              "      const chunk = new Uint8Array(fileData, position, length);\n",
              "      position += length;\n",
              "\n",
              "      const base64 = btoa(String.fromCharCode.apply(null, chunk));\n",
              "      yield {\n",
              "        response: {\n",
              "          action: 'append',\n",
              "          file: file.name,\n",
              "          data: base64,\n",
              "        },\n",
              "      };\n",
              "\n",
              "      let percentDone = fileData.byteLength === 0 ?\n",
              "          100 :\n",
              "          Math.round((position / fileData.byteLength) * 100);\n",
              "      percent.textContent = `${percentDone}% done`;\n",
              "\n",
              "    } while (position < fileData.byteLength);\n",
              "  }\n",
              "\n",
              "  // All done.\n",
              "  yield {\n",
              "    response: {\n",
              "      action: 'complete',\n",
              "    }\n",
              "  };\n",
              "}\n",
              "\n",
              "scope.google = scope.google || {};\n",
              "scope.google.colab = scope.google.colab || {};\n",
              "scope.google.colab._files = {\n",
              "  _uploadFiles,\n",
              "  _uploadFilesContinue,\n",
              "};\n",
              "})(self);\n",
              "</script> "
            ]
          },
          "metadata": {}
        },
        {
          "output_type": "stream",
          "name": "stdout",
          "text": [
            "Saving HOSP DATA (top 20).csv to HOSP DATA (top 20).csv\n",
            "Saving HOSP DATA vol by year.csv to HOSP DATA vol by year.csv\n"
          ]
        }
      ],
      "source": [
        "from google.colab import files\n",
        "uploaded = files.upload()\n"
      ]
    },
    {
      "cell_type": "code",
      "source": [
        "import pandas as pd\n",
        "import io\n",
        "\n",
        "\n",
        "df = pd.read_csv(io.BytesIO(uploaded['HOSP DATA (top 20).csv']))\n",
        "df_vol_by_year = pd.read_csv(io.BytesIO(uploaded['HOSP DATA vol by year.csv']))\n",
        "# Check data\n",
        "df.head(), df_vol_by_year.head()\n"
      ],
      "metadata": {
        "colab": {
          "base_uri": "https://localhost:8080/"
        },
        "id": "NnOF8aPAA7eb",
        "outputId": "40ea603a-aae5-48d6-9de7-0e490c6bca6b"
      },
      "execution_count": 20,
      "outputs": [
        {
          "output_type": "execute_result",
          "data": {
            "text/plain": [
              "(          City        Country       County      My Hospital  \\\n",
              " 0     Glendale  United States  Los Angeles  Other Hospitals   \n",
              " 1    Lancaster  United States  Los Angeles  Other Hospitals   \n",
              " 2  Los Angeles  United States  Los Angeles  Other Hospitals   \n",
              " 3  Los Angeles  United States  Los Angeles  Other Hospitals   \n",
              " 4  Los Angeles  United States  Los Angeles  Other Hospitals   \n",
              " \n",
              "                                     Name       State    ZIP  Avg Age '22  \\\n",
              " 0            Adventist Health - Glendale  California  91206        50.21   \n",
              " 1               Antelope Valley Hospital  California  93534        37.12   \n",
              " 2          Cedars Sinai - Medical Center  California  90048        49.37   \n",
              " 3       Childrens Hospital - Los Angeles  California  90027         6.62   \n",
              " 4  Hollywood Presbyterian Medical Center  California  90027        45.06   \n",
              " \n",
              "   Avg Costs per Disch  Avg LOS '22  ...  Hosp latitude  Hosp Longitude  \\\n",
              " 0                $23K         5.93  ...          34.16         -118.20   \n",
              " 1                $19K         4.88  ...          34.72         -118.15   \n",
              " 2                $23K         5.56  ...          34.07         -118.37   \n",
              " 3                $20K         4.82  ...          34.12         -118.28   \n",
              " 4                $21K         5.34  ...          34.12         -118.28   \n",
              " \n",
              "    LA County ALOS overall  Medi-Cal %  Medicare %  Other Ins %  \\\n",
              " 0                5.542216      0.2529      0.5048       0.0306   \n",
              " 1                5.542216      0.3890      0.3108       0.0315   \n",
              " 2                5.542216      0.1065      0.4291       0.0216   \n",
              " 3                5.542216      0.7297      0.0022       0.0250   \n",
              " 4                5.542216      0.6113      0.2491       0.0293   \n",
              " \n",
              "    Percent Market share 2022  Private % Tot Pt Days '22  Tot Pt Discharges  \n",
              " 0                      4.20%     0.2117          113987                19K  \n",
              " 1                      4.60%     0.2687          100926                21K  \n",
              " 2                     11.00%     0.4428          275896                50K  \n",
              " 3                      3.80%     0.2431           81893                17K  \n",
              " 4                      3.90%     0.1103           93125                17K  \n",
              " \n",
              " [5 rows x 22 columns],\n",
              "          Date              Name (HOSP DATA vol by year)  ABS  Vol  \\\n",
              " 0  12/31/2019             Cedars Sinai - Medical Center  14883.65   \n",
              " 1  12/31/2019   Los Angeles County - USC Medical Center   7857.45   \n",
              " 2  12/31/2019  Kaiser Foundation Hospital - Los Angeles  16161.40   \n",
              " 3  12/31/2019          Torrance Memorial Medical Center  22487.45   \n",
              " 4  12/31/2019              Huntington Memorial Hospital   4962.80   \n",
              " \n",
              "    Avoidable ED Visit %  Avoidable ER visits   ED Vol   IP Vol  Total Volume  \n",
              " 0                0.4164          18932.12568  45466.2  52363.3      143295.7  \n",
              " 1                0.4415          37196.72820  84250.8  30901.2      199402.8  \n",
              " 2                0.4335          18908.22960  43617.6  29329.3      116564.5  \n",
              " 3                0.4374          19723.15332  45091.8  26620.0      116803.6  \n",
              " 4                0.4303          15930.35145  37021.5  28810.1      102853.1  )"
            ]
          },
          "metadata": {},
          "execution_count": 20
        }
      ]
    },
    {
      "cell_type": "code",
      "source": [
        "# Data Cleaning\n",
        "df = df_top20.dropna()\n",
        "df = pd.get_dummies(df_top20, drop_first=True)\n"
      ],
      "metadata": {
        "id": "LRMaUUA6Bev_"
      },
      "execution_count": 21,
      "outputs": []
    },
    {
      "cell_type": "code",
      "source": [
        "from sklearn.model_selection import train_test_split\n",
        "from sklearn.ensemble import RandomForestRegressor\n",
        "from sklearn.metrics import mean_squared_error, r2_score\n",
        "import numpy as np"
      ],
      "metadata": {
        "id": "Z80-AlWVBHJx"
      },
      "execution_count": 18,
      "outputs": []
    },
    {
      "cell_type": "code",
      "source": [
        "# For Cost per Discharge, create a numeric variable from binary columns\n",
        "cost_cols = ['Avg Costs per Disch_$20K', 'Avg Costs per Disch_$21K', 'Avg Costs per Disch_$22K',\n",
        "             'Avg Costs per Disch_$23K', 'Avg Costs per Disch_$24K', 'Avg Costs per Disch_$25K']\n",
        "\n",
        "# Convert binary columns to numeric values\n",
        "cost_values = [20000, 21000, 22000, 23000, 24000, 25000]\n",
        "df['Avg_Cost_Per_Disch'] = df[cost_cols].idxmax(axis=1).str.extract('(\\d+)').astype(float)\n",
        "\n",
        "# Drop binary cost columns after creating numeric column\n",
        "X = df.drop(cost_cols + [\"Avg LOS '22\", 'ZIP'], axis=1)\n",
        "\n",
        "y_los = df[\"Avg LOS '22\"]\n",
        "y_cost = df[\"Avg_Cost_Per_Disch\"]\n",
        "\n",
        "# Split dataset properly for each prediction\n",
        "X_train_los, X_test_los, y_train_los, y_test_los = train_test_split(X, y_los, test_size=0.2, random_state=42)\n",
        "X_train_cost, X_test_cost, y_train_cost, y_test_cost = train_test_split(X, y_cost, test_size=0.2, random_state=42)\n",
        "\n",
        "# Model training for Length of Stay\n",
        "model_los = RandomForestRegressor(n_estimators=100, random_state=42)\n",
        "model_los.fit(X_train_los, y_train_los)\n",
        "\n",
        "# Model training for Cost per Discharge\n",
        "model_cost = RandomForestRegressor(n_estimators=100, random_state=42)\n",
        "model_cost.fit(X_train_cost, y_train_cost)\n",
        "\n",
        "# Predictions\n",
        "pred_los = model_los.predict(X_test_los)\n",
        "pred_cost = model_cost.predict(X_test_cost)\n",
        "\n",
        "# Evaluation\n",
        "rmse_los = np.sqrt(mean_squared_error(y_test_los, pred_los))\n",
        "rmse_cost = np.sqrt(mean_squared_error(y_test_cost, pred_cost))\n",
        "\n",
        "r2_los = r2_score(y_test_los, pred_los)\n",
        "r2_cost = r2_score(y_test_cost, pred_cost)\n",
        "\n",
        "# Output evaluation results\n",
        "print(f\"Length of Stay - RMSE: {rmse_los:.2f}, R²: {r2_los:.2f}\")\n",
        "print(f\"Cost per Discharge - RMSE: {rmse_cost:.2f}, R²: {r2_cost:.2f}\")"
      ],
      "metadata": {
        "colab": {
          "base_uri": "https://localhost:8080/"
        },
        "id": "9CPggQoLNmFL",
        "outputId": "24e77576-9e6a-4e48-b44c-76bfdd877765"
      },
      "execution_count": 25,
      "outputs": [
        {
          "output_type": "stream",
          "name": "stdout",
          "text": [
            "Length of Stay - RMSE: 0.28, R²: 0.42\n",
            "Cost per Discharge - RMSE: 0.82, R²: 0.35\n"
          ]
        }
      ]
    },
    {
      "cell_type": "markdown",
      "source": [
        "Length of Stay model:\n",
        "\n",
        "RMSE: 0.28 (lower is better)\n",
        "R²: 0.42 (moderate explanatory power)\n",
        "Cost per Discharge model:\n",
        "\n",
        "RMSE: 0.82\n",
        "R²: 0.35 (somewhat lower predictive power but still acceptable)"
      ],
      "metadata": {
        "id": "8LaH2uL9PBnW"
      }
    },
    {
      "cell_type": "code",
      "source": [],
      "metadata": {
        "id": "JbwJLJtkN6CW"
      },
      "execution_count": null,
      "outputs": []
    }
  ]
}